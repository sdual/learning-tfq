{
 "cells": [
  {
   "cell_type": "code",
   "execution_count": 1,
   "metadata": {},
   "outputs": [],
   "source": [
    "import cirq"
   ]
  },
  {
   "cell_type": "code",
   "execution_count": 2,
   "metadata": {},
   "outputs": [],
   "source": [
    "qubits = [cirq.GridQubit(x, y) for x in range(3) for y in range(3)]"
   ]
  },
  {
   "cell_type": "code",
   "execution_count": 3,
   "metadata": {},
   "outputs": [
    {
     "name": "stdout",
     "output_type": "stream",
     "text": [
      "(0, 0)\n"
     ]
    }
   ],
   "source": [
    "print(qubits[0])"
   ]
  },
  {
   "cell_type": "code",
   "execution_count": 5,
   "metadata": {},
   "outputs": [
    {
     "name": "stdout",
     "output_type": "stream",
     "text": [
      "X((0, 0))\n"
     ]
    }
   ],
   "source": [
    "x_gate = cirq.X\n",
    "\n",
    "x_op = x_gate(qubits[0])\n",
    "\n",
    "print(x_op)"
   ]
  },
  {
   "cell_type": "code",
   "execution_count": 6,
   "metadata": {},
   "outputs": [
    {
     "name": "stdout",
     "output_type": "stream",
     "text": [
      "X((0, 2)) and CZ((0, 0), (0, 1))\n"
     ]
    }
   ],
   "source": [
    "cz = cirq.CZ(qubits[0], qubits[1])\n",
    "x = cirq.X(qubits[2])\n",
    "moment = cirq.Moment([x, cz])\n",
    "\n",
    "print(moment)"
   ]
  },
  {
   "cell_type": "code",
   "execution_count": 7,
   "metadata": {},
   "outputs": [
    {
     "name": "stdout",
     "output_type": "stream",
     "text": [
      "(0, 0): ───@───────\n",
      "           │\n",
      "(0, 1): ───@───@───\n",
      "               │\n",
      "(0, 2): ───X───@───\n"
     ]
    }
   ],
   "source": [
    "cz01 = cirq.CZ(qubits[0], qubits[1])\n",
    "x2 = cirq.X(qubits[2])\n",
    "cz12 = cirq.CZ(qubits[1], qubits[2])\n",
    "moment0 = cirq.Moment([cz01, x2])\n",
    "moment1 = cirq.Moment([cz12])\n",
    "\n",
    "circuit = cirq.Circuit((moment0, moment1))\n",
    "\n",
    "print(circuit)"
   ]
  },
  {
   "cell_type": "code",
   "execution_count": 8,
   "metadata": {},
   "outputs": [],
   "source": [
    "from cirq.ops import CZ, H"
   ]
  },
  {
   "cell_type": "code",
   "execution_count": 10,
   "metadata": {},
   "outputs": [],
   "source": [
    "q0, q1, q2 = [cirq.GridQubit(i, 0) for i in range(3)]"
   ]
  },
  {
   "cell_type": "code",
   "execution_count": 11,
   "metadata": {},
   "outputs": [],
   "source": [
    "circuit = cirq.Circuit()\n",
    "circuit.append([CZ(q0, q1), H(q2)])"
   ]
  },
  {
   "cell_type": "code",
   "execution_count": 12,
   "metadata": {},
   "outputs": [
    {
     "name": "stdout",
     "output_type": "stream",
     "text": [
      "(0, 0): ───@───\n",
      "           │\n",
      "(1, 0): ───@───\n",
      "\n",
      "(2, 0): ───H───\n"
     ]
    }
   ],
   "source": [
    "print(circuit)"
   ]
  },
  {
   "cell_type": "code",
   "execution_count": 13,
   "metadata": {},
   "outputs": [
    {
     "name": "stdout",
     "output_type": "stream",
     "text": [
      "(0, 0): ───@───H───\n",
      "           │\n",
      "(1, 0): ───@───@───\n",
      "               │\n",
      "(2, 0): ───H───@───\n"
     ]
    }
   ],
   "source": [
    "circuit.append([H(q0), CZ(q1, q2)])\n",
    "\n",
    "print(circuit)"
   ]
  },
  {
   "cell_type": "code",
   "execution_count": 14,
   "metadata": {},
   "outputs": [
    {
     "name": "stdout",
     "output_type": "stream",
     "text": [
      "(0, 0): ───@───H───\n",
      "           │\n",
      "(1, 0): ───@───@───\n",
      "               │\n",
      "(2, 0): ───H───@───\n"
     ]
    }
   ],
   "source": [
    "circuit = cirq.Circuit()\n",
    "circuit.append([CZ(q0, q1), H(q2), H(q0), CZ(q1, q2)])\n",
    "\n",
    "print(circuit)"
   ]
  },
  {
   "cell_type": "code",
   "execution_count": 15,
   "metadata": {},
   "outputs": [],
   "source": [
    "from cirq.circuits import InsertStrategy"
   ]
  },
  {
   "cell_type": "code",
   "execution_count": 16,
   "metadata": {},
   "outputs": [
    {
     "name": "stdout",
     "output_type": "stream",
     "text": [
      "(0, 0): ───@───H───\n",
      "           │\n",
      "(1, 0): ───@───────\n",
      "\n",
      "(2, 0): ───H───────\n"
     ]
    }
   ],
   "source": [
    "circuit = cirq.Circuit()\n",
    "circuit.append([CZ(q0, q1)])\n",
    "circuit.append([H(q0), H(q2)], strategy=InsertStrategy.EARLIEST)\n",
    "\n",
    "print(circuit)"
   ]
  },
  {
   "cell_type": "code",
   "execution_count": 17,
   "metadata": {},
   "outputs": [
    {
     "name": "stdout",
     "output_type": "stream",
     "text": [
      "(0, 0): ───H───────────\n",
      "\n",
      "(1, 0): ───────H───────\n",
      "\n",
      "(2, 0): ───────────H───\n"
     ]
    }
   ],
   "source": [
    "circuit = cirq.Circuit()\n",
    "circuit.append([H(q0), H(q1), H(q2)], strategy=InsertStrategy.NEW)\n",
    "\n",
    "print(circuit)"
   ]
  },
  {
   "cell_type": "code",
   "execution_count": 20,
   "metadata": {},
   "outputs": [
    {
     "name": "stdout",
     "output_type": "stream",
     "text": [
      "(0, 0): ───────H───────\n",
      "\n",
      "(1, 0): ───@───@───H───\n",
      "           │   │\n",
      "(2, 0): ───@───@───H───\n"
     ]
    }
   ],
   "source": [
    "circuit = cirq.Circuit()\n",
    "circuit.append([CZ(q1, q2)])\n",
    "circuit.append([CZ(q1, q2)])\n",
    "circuit.append([H(q0), H(q1), H(q2)], strategy=InsertStrategy.INLINE)\n",
    "\n",
    "print(circuit)"
   ]
  },
  {
   "cell_type": "code",
   "execution_count": 21,
   "metadata": {},
   "outputs": [
    {
     "name": "stdout",
     "output_type": "stream",
     "text": [
      "(0, 0): ───H───H───\n",
      "\n",
      "(1, 0): ───────@───\n",
      "               │\n",
      "(2, 0): ───────@───\n"
     ]
    }
   ],
   "source": [
    "circuit = cirq.Circuit()\n",
    "circuit.append([H(q0)])\n",
    "circuit.append([CZ(q1, q2), H(q0)], strategy=InsertStrategy.NEW_THEN_INLINE)\n",
    "\n",
    "print(circuit)"
   ]
  },
  {
   "cell_type": "code",
   "execution_count": 22,
   "metadata": {},
   "outputs": [
    {
     "name": "stdout",
     "output_type": "stream",
     "text": [
      "CZ((0, 0), (1, 0))\n",
      "[cirq.H(cirq.GridQubit(0, 0)), cirq.H(cirq.GridQubit(1, 0)), cirq.H(cirq.GridQubit(2, 0))]\n",
      "[cirq.CZ(cirq.GridQubit(1, 0), cirq.GridQubit(2, 0))]\n",
      "[cirq.H(cirq.GridQubit(0, 0)), [cirq.CZ(cirq.GridQubit(1, 0), cirq.GridQubit(2, 0))]]\n"
     ]
    }
   ],
   "source": [
    "def my_layer():\n",
    "    yield CZ(q0, q1)\n",
    "    yield [H(q) for q in (q0, q1, q2)]\n",
    "    yield [CZ(q1, q2)]\n",
    "    yield [H(q0), [CZ(q1, q2)]]\n",
    "\n",
    "circuit = cirq.Circuit()\n",
    "circuit.append(my_layer())\n",
    "\n",
    "for x in my_layer():\n",
    "    print(x)"
   ]
  },
  {
   "cell_type": "code",
   "execution_count": 23,
   "metadata": {},
   "outputs": [
    {
     "name": "stdout",
     "output_type": "stream",
     "text": [
      "(0, 0): ───@───H───H───────\n",
      "           │\n",
      "(1, 0): ───@───H───@───@───\n",
      "                   │   │\n",
      "(2, 0): ───H───────@───@───\n"
     ]
    }
   ],
   "source": [
    "print(circuit)"
   ]
  },
  {
   "cell_type": "code",
   "execution_count": 24,
   "metadata": {},
   "outputs": [
    {
     "name": "stdout",
     "output_type": "stream",
     "text": [
      "(0, 0): ───H───\n",
      "\n",
      "(1, 0): ───H───\n"
     ]
    }
   ],
   "source": [
    "circuit = cirq.Circuit(H(q0), H(q1))\n",
    "print(circuit)"
   ]
  },
  {
   "cell_type": "code",
   "execution_count": 25,
   "metadata": {},
   "outputs": [
    {
     "name": "stdout",
     "output_type": "stream",
     "text": [
      "H((0, 0))\n",
      "CZ((0, 0), (1, 0))\n"
     ]
    }
   ],
   "source": [
    "circuit = cirq.Circuit(H(q0), CZ(q0, q1))\n",
    "for moment in circuit:\n",
    "    print(moment)"
   ]
  },
  {
   "cell_type": "code",
   "execution_count": 27,
   "metadata": {},
   "outputs": [
    {
     "name": "stdout",
     "output_type": "stream",
     "text": [
      "(0, 0): ───H───@───────@───\n",
      "               │       │\n",
      "(1, 0): ───────@───H───@───\n",
      "(0, 0): ───@───────\n",
      "           │\n",
      "(1, 0): ───@───H───\n"
     ]
    }
   ],
   "source": [
    "circuit = cirq.Circuit(H(q0), CZ(q0, q1), H(q1), CZ(q0, q1))\n",
    "print(circuit)\n",
    "print(circuit[1:3])"
   ]
  },
  {
   "cell_type": "code",
   "execution_count": 28,
   "metadata": {},
   "outputs": [
    {
     "name": "stdout",
     "output_type": "stream",
     "text": [
      "(0, 0): ───@───────@───H───\n",
      "           │       │\n",
      "(1, 0): ───@───H───@───────\n"
     ]
    }
   ],
   "source": [
    "print(circuit[::-1])"
   ]
  },
  {
   "cell_type": "code",
   "execution_count": 29,
   "metadata": {},
   "outputs": [
    {
     "name": "stdout",
     "output_type": "stream",
     "text": [
      "Before optimization, Circuit has 3 moments\n"
     ]
    }
   ],
   "source": [
    "c = cirq.Circuit()\n",
    "c.append(cirq.Moment([]))\n",
    "c.append(cirq.Moment([cirq.X(cirq.GridQubit(1, 1))]))\n",
    "c.append(cirq.Moment([]))\n",
    "print('Before optimization, Circuit has {} moments'.format(len(c)))"
   ]
  },
  {
   "cell_type": "code",
   "execution_count": 30,
   "metadata": {},
   "outputs": [
    {
     "name": "stdout",
     "output_type": "stream",
     "text": [
      "After optimization, circuit has 1 moments\n"
     ]
    }
   ],
   "source": [
    "cirq.DropEmptyMoments().optimize_circuit(circuit=c)\n",
    "print('After optimization, circuit has {} moments'.format(len(c)))"
   ]
  },
  {
   "cell_type": "code",
   "execution_count": 31,
   "metadata": {},
   "outputs": [],
   "source": [
    "class RemoveMeasurements(cirq.PointOptimizer):\n",
    "    def optimization_at(self, circuit: cirq.Circuit, index: int, op: cirq.Operation):\n",
    "        if isinstance(op.gate, cirq.MeasurementGate):\n",
    "            return cirq.PointOptimizationSummary(clear_span=1, new_operations=[], clear_qubits=op.qubits)\n",
    "        else:\n",
    "            return None"
   ]
  },
  {
   "cell_type": "code",
   "execution_count": 32,
   "metadata": {},
   "outputs": [
    {
     "name": "stdout",
     "output_type": "stream",
     "text": [
      "Before optimization\n",
      "0: ───Z───M───\n"
     ]
    }
   ],
   "source": [
    "q = cirq.LineQubit(0)\n",
    "c = cirq.Circuit(cirq.Z(q), cirq.measure(q))\n",
    "print('Before optimization')\n",
    "print(c)"
   ]
  },
  {
   "cell_type": "code",
   "execution_count": 33,
   "metadata": {},
   "outputs": [
    {
     "name": "stdout",
     "output_type": "stream",
     "text": [
      "After optimization\n",
      "0: ───Z───────\n"
     ]
    }
   ],
   "source": [
    "RemoveMeasurements().optimize_circuit(c)\n",
    "print('After optimization')\n",
    "print(c)"
   ]
  },
  {
   "cell_type": "code",
   "execution_count": null,
   "metadata": {},
   "outputs": [],
   "source": []
  }
 ],
 "metadata": {
  "kernelspec": {
   "display_name": "Python 3",
   "language": "python",
   "name": "python3"
  },
  "language_info": {
   "codemirror_mode": {
    "name": "ipython",
    "version": 3
   },
   "file_extension": ".py",
   "mimetype": "text/x-python",
   "name": "python",
   "nbconvert_exporter": "python",
   "pygments_lexer": "ipython3",
   "version": "3.6.9"
  }
 },
 "nbformat": 4,
 "nbformat_minor": 4
}
